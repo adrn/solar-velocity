{
 "cells": [
  {
   "cell_type": "markdown",
   "id": "7438b862",
   "metadata": {},
   "source": [
    "Query on Cosmohub to get Gaia EDR3 data:\n",
    "\n",
    "    SELECT `solution_id`, `designation`, `source_id`, `ra`, `ra_error`, `dec`, `dec_error`, `parallax`, `parallax_error`, `pm`, `pmra`, `pmra_error`, `pmdec`, `pmdec_error`, `ra_dec_corr`, `ra_parallax_corr`, `ra_pmra_corr`, `ra_pmdec_corr`, `dec_parallax_corr`, `dec_pmra_corr`, `dec_pmdec_corr`, `parallax_pmra_corr`, `parallax_pmdec_corr`, `pmra_pmdec_corr`, `visibility_periods_used`, `astrometric_sigma5d_max`, `ruwe`, `duplicated_source`, `phot_g_mean_flux`, `phot_g_mean_flux_error`, `phot_g_mean_flux_over_error`, `phot_g_mean_mag`, `phot_bp_mean_flux`, `phot_bp_mean_flux_error`, `phot_bp_mean_flux_over_error`, `phot_bp_mean_mag`, `phot_rp_mean_flux`, `phot_rp_mean_flux_error`, `phot_rp_mean_flux_over_error`, `phot_rp_mean_mag`, `dr2_radial_velocity`, `dr2_radial_velocity_error`, `l`, `b`, `phot_bp_rp_excess_factor` FROM gaia_edr3 WHERE `phot_g_mean_mag` < 18.5 AND (`b` > 30 OR `b` < -30)"
   ]
  },
  {
   "cell_type": "code",
   "execution_count": null,
   "id": "8fdf3049",
   "metadata": {},
   "outputs": [],
   "source": [
    "import astropy.coordinates as coord\n",
    "import astropy.table as at\n",
    "import astropy.units as u\n",
    "import matplotlib as mpl\n",
    "import matplotlib.pyplot as plt\n",
    "%matplotlib inline\n",
    "import numpy as np\n",
    "\n",
    "from pyia import GaiaData"
   ]
  },
  {
   "cell_type": "code",
   "execution_count": null,
   "id": "dc678908",
   "metadata": {},
   "outputs": [],
   "source": [
    "g = GaiaData('/Users/apricewhelan/data/GaiaEDR3/edr3-rv-good-plx-result.fits')"
   ]
  },
  {
   "cell_type": "code",
   "execution_count": null,
   "id": "b11ec7da",
   "metadata": {},
   "outputs": [],
   "source": [
    "b_mask = np.abs(g.b) > 30*u.deg"
   ]
  },
  {
   "cell_type": "code",
   "execution_count": null,
   "id": "e385a998",
   "metadata": {},
   "outputs": [],
   "source": [
    "# Raw photometry\n",
    "# MG = g.phot_g_mean_mag - g.distmod\n",
    "# BPRP = g.bp_rp\n",
    "\n",
    "# attempt at extinction-correcting the photometry:\n",
    "MG = g.get_G0() - g.distmod\n",
    "BPRP = g.get_BP0() - g.get_RP0()"
   ]
  },
  {
   "cell_type": "code",
   "execution_count": null,
   "id": "19b338bd",
   "metadata": {},
   "outputs": [],
   "source": [
    "fig, axes = plt.subplots(1, 2, figsize=(12, 5.5),\n",
    "                         sharex=True, sharey=True)\n",
    "bins = (np.linspace(-1, 4, 256),\n",
    "        np.linspace(-6, 12, 256))\n",
    "\n",
    "axes[0].hist2d(\n",
    "    BPRP.value, \n",
    "    MG.value,\n",
    "    bins=bins,\n",
    "    norm=mpl.colors.LogNorm()\n",
    ")\n",
    "\n",
    "axes[1].hist2d(\n",
    "    BPRP.value[b_mask], \n",
    "    MG.value[b_mask],\n",
    "    bins=bins,\n",
    "    norm=mpl.colors.LogNorm()\n",
    ")\n",
    "\n",
    "axes[0].set_ylim(12, -6)\n",
    "for ax in axes:\n",
    "    ax.set_xlabel(r'$G_{\\rm BP}-G_{\\rm RP}$')\n",
    "axes[0].set_ylabel('$M_G$')\n",
    "\n",
    "fig.tight_layout()"
   ]
  },
  {
   "cell_type": "markdown",
   "id": "1424fdf6",
   "metadata": {},
   "source": [
    "Select the upper main sequence (but not too upper, and remove the giant branch). These $M_G$ limits correspond roughly to F-type stars through G stars based on:\n",
    "https://www.pas.rochester.edu/~emamajek/EEM_dwarf_UBVIJHK_colors_Teff.txt"
   ]
  },
  {
   "cell_type": "code",
   "execution_count": null,
   "id": "4b690741",
   "metadata": {},
   "outputs": [],
   "source": [
    "MG_lim = (2.5, 5.5)\n",
    "max_G = 18.5\n",
    "maxdist = coord.Distance(distmod=max_G - max(MG_lim))\n",
    "print(f\"rough maximum distance for completeness: {maxdist:.0f}\")"
   ]
  },
  {
   "cell_type": "code",
   "execution_count": null,
   "id": "70652df8",
   "metadata": {},
   "outputs": [],
   "source": [
    "fig, ax = plt.subplots(figsize=(6, 6))\n",
    "ax.hist2d(\n",
    "    BPRP.value[b_mask], \n",
    "    MG.value[b_mask],\n",
    "    bins=(np.linspace(0, 2.3, 256),\n",
    "          np.linspace(0, 8, 256)),\n",
    "    norm=mpl.colors.LogNorm()\n",
    ")\n",
    "\n",
    "nodes = np.array([\n",
    "    [1.1, MG_lim[1]],\n",
    "    [0.6, MG_lim[1]],\n",
    "    [0.2, MG_lim[0]],\n",
    "    [0.8, MG_lim[0]],\n",
    "    [0.93, 4.5],\n",
    "    [1.1, MG_lim[1]]\n",
    "])\n",
    "ax.plot(nodes[:, 0], nodes[:, 1], color='tab:green')\n",
    "path_ = mpl.path.Path(nodes)\n",
    "cmd_mask = path_.contains_points(np.stack((BPRP.value, MG.value)).T)\n",
    "\n",
    "ax.set_ylim(8, 0)\n",
    "ax.set_xlabel(r'$G_{\\rm BP}-G_{\\rm RP}$')\n",
    "ax.set_ylabel('$M_G$')\n",
    "fig.tight_layout()"
   ]
  },
  {
   "cell_type": "code",
   "execution_count": null,
   "id": "cd50a205",
   "metadata": {},
   "outputs": [],
   "source": [
    "mask = (\n",
    "    b_mask &\n",
    "    cmd_mask\n",
    ")\n",
    "b_mask.sum(), cmd_mask.sum(), mask.sum()"
   ]
  },
  {
   "cell_type": "code",
   "execution_count": null,
   "id": "40566473",
   "metadata": {},
   "outputs": [],
   "source": [
    "ms_g = g[mask]"
   ]
  },
  {
   "cell_type": "code",
   "execution_count": null,
   "id": "f0d901a9",
   "metadata": {},
   "outputs": [],
   "source": [
    "gal = ms_g.skycoord.galactic\n",
    "x, y, z = gal.represent_as('cartesian').xyz.to_value(u.kpc)"
   ]
  },
  {
   "cell_type": "code",
   "execution_count": null,
   "id": "232765a3",
   "metadata": {},
   "outputs": [],
   "source": [
    "fig, axes = plt.subplots(\n",
    "    1, 2, \n",
    "    figsize=(12, 6), \n",
    "    constrained_layout=True\n",
    ")\n",
    "\n",
    "for ax, coords, labels in zip(axes, \n",
    "                              [(x, y), (x, z)], \n",
    "                              [('x', 'y'), ('x', 'z')]):\n",
    "    ax.hist2d(\n",
    "        coords[0], \n",
    "        coords[1], \n",
    "        bins=np.linspace(-0.5, 0.5, 128), \n",
    "        cmap='Greys'\n",
    "    #     norm=mpl.colors.LogNorm()\n",
    "    )\n",
    "\n",
    "    circ = mpl.patches.Circle(\n",
    "        (0, 0),\n",
    "        radius=maxdist.to_value(u.kpc),\n",
    "        linewidth=2, \n",
    "        facecolor='none',\n",
    "        edgecolor='tab:red'\n",
    "    )\n",
    "    ax.add_patch(circ)\n",
    "    ax.set_aspect('equal')\n",
    "\n",
    "    ax.set(\n",
    "        xlabel=f'Heliocentric Galactic ${labels[0]}$ [kpc]',\n",
    "        ylabel=f'Heliocentric Galactic ${labels[1]}$ [kpc]',\n",
    "        xlim=(-0.5, 0.5),\n",
    "        ylim=(-0.5, 0.5),\n",
    "        xticks=np.arange(-0.5, 0.5+0.1, 0.2),\n",
    "        yticks=np.arange(-0.5, 0.5+0.1, 0.2)\n",
    "    );"
   ]
  },
  {
   "cell_type": "code",
   "execution_count": null,
   "id": "ac16e0d8",
   "metadata": {},
   "outputs": [],
   "source": [
    "plt.hist(z, bins=np.linspace(-1, 1, 256));"
   ]
  },
  {
   "cell_type": "markdown",
   "id": "fb627e21",
   "metadata": {},
   "source": [
    "Parameters:\n",
    "- $z_\\odot$\n",
    "- orientation of the galactic plane\n",
    "\n",
    "These cartesian coordinates are a rotation $\\mathbf{M}$ away from the ICRS cartesian coordinates\n",
    "$$\n",
    "\\textbf{x} = (x, y, z) = \\mathbf{M}\\,\\textbf{x}_{\\textrm{ICRS}}\n",
    "$$\n",
    "where one angle in the rotation matrix is set by the (fixed) sky position of the Galactic center, one is set by the Sun's height above the midplane and distance to the Galactic center, and one is set by the orientation of the Galactic plane (on the sky?) or position angle or \"roll\" or whatever.\n",
    "\n",
    "In the rotated \"Galactocentric\" coordinates $\\textbf{x}$:\n",
    "$$\n",
    "\\rho(\\textbf{x}) = \\rho_0 \\, \\left[\n",
    "    \\textrm{sech}^2\\left(\\frac{z + z_\\odot}{2\\,h_1}\\right) + \n",
    "    \\alpha \\, \\textrm{sech}^2\\left(\\frac{z + z_\\odot}{2\\,h_2}\\right)\n",
    "    \\right]\n",
    "$$\n",
    "where the density is assumed to be uniform in $x, y$ and only depend on $z$."
   ]
  },
  {
   "cell_type": "code",
   "execution_count": null,
   "id": "5c8f2554",
   "metadata": {},
   "outputs": [],
   "source": []
  },
  {
   "cell_type": "code",
   "execution_count": null,
   "id": "e1676a4e",
   "metadata": {},
   "outputs": [],
   "source": []
  },
  {
   "cell_type": "code",
   "execution_count": null,
   "id": "0f086b20",
   "metadata": {},
   "outputs": [],
   "source": []
  }
 ],
 "metadata": {
  "kernelspec": {
   "display_name": "Python [conda env:root] *",
   "language": "python",
   "name": "conda-root-py"
  },
  "language_info": {
   "codemirror_mode": {
    "name": "ipython",
    "version": 3
   },
   "file_extension": ".py",
   "mimetype": "text/x-python",
   "name": "python",
   "nbconvert_exporter": "python",
   "pygments_lexer": "ipython3",
   "version": "3.8.3"
  },
  "toc": {
   "base_numbering": 1,
   "nav_menu": {},
   "number_sections": true,
   "sideBar": true,
   "skip_h1_title": false,
   "title_cell": "Table of Contents",
   "title_sidebar": "Contents",
   "toc_cell": false,
   "toc_position": {},
   "toc_section_display": true,
   "toc_window_display": false
  }
 },
 "nbformat": 4,
 "nbformat_minor": 5
}
