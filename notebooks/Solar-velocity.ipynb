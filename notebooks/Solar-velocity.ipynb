{
 "cells": [
  {
   "cell_type": "markdown",
   "id": "b87ecc4d",
   "metadata": {},
   "source": [
    "Note: old!"
   ]
  },
  {
   "cell_type": "markdown",
   "id": "f2fbd5fa",
   "metadata": {},
   "source": [
    "References:\n",
    "- [Reid & Brunthaler 2020](https://ui.adsabs.harvard.edu/abs/2020ApJ...892...39R/abstract)\n",
    "- [Gravity Collaboration 2021](https://ui.adsabs.harvard.edu/abs/2021A%26A...647A..59G/abstract)\n",
    "- [Drimmel & Poggio 2018](https://ui.adsabs.harvard.edu/abs/2018RNAAS...2..210D/abstract)"
   ]
  },
  {
   "cell_type": "code",
   "execution_count": 344,
   "id": "d8b4a978",
   "metadata": {
    "ExecuteTime": {
     "end_time": "2022-01-23T20:16:36.824511Z",
     "start_time": "2022-01-23T20:16:36.759676Z"
    }
   },
   "outputs": [],
   "source": [
    "import astropy.coordinates as coord\n",
    "import astropy.table as at\n",
    "import astropy.units as u\n",
    "import matplotlib as mpl\n",
    "import matplotlib.pyplot as plt\n",
    "%matplotlib inline\n",
    "import numpy as np"
   ]
  },
  {
   "cell_type": "markdown",
   "id": "07408aeb",
   "metadata": {},
   "source": [
    "Table 2 in Reid & Brunthaler 2004"
   ]
  },
  {
   "cell_type": "code",
   "execution_count": 345,
   "id": "e16875e3",
   "metadata": {
    "ExecuteTime": {
     "end_time": "2022-01-23T20:16:44.699913Z",
     "start_time": "2022-01-23T20:16:44.691960Z"
    }
   },
   "outputs": [],
   "source": [
    "ra = 266.4051 * u.deg\n",
    "dec = -28.936175 * u.deg\n",
    "\n",
    "# J2000 position of Sag A* (Table 1 caption)\n",
    "17:45:40.0409 -29:00:28.118\n",
    "\n",
    "pmra = -3.151 * u.mas/u.yr\n",
    "pmra_err = 0.018 * u.mas/u.yr\n",
    "pmdec = -5.547 * u.mas/u.yr\n",
    "pmdec_err = 0.026 * u.mas/u.yr"
   ]
  },
  {
   "cell_type": "code",
   "execution_count": 340,
   "id": "610b11c6",
   "metadata": {
    "ExecuteTime": {
     "end_time": "2021-12-13T20:25:45.484775Z",
     "start_time": "2021-12-13T20:25:45.471788Z"
    }
   },
   "outputs": [],
   "source": [
    "def get_solar_velocity_Reid2004(Rsun, rv):\n",
    "    # Proper motion and position of SgrA* measured by Reid et al. 2004:\n",
    "    pos = coord.SkyCoord(266.4051, -28.936175, unit='deg')\n",
    "    pm_gal = [-6.379, -0.202] * u.mas/u.yr\n",
    "    \n",
    "    galcen_frame = coord.Galactocentric(\n",
    "        galcen_v_sun=[0,0,0]*u.km/u.s,\n",
    "        galcen_distance=Rsun\n",
    "    )\n",
    "    \n",
    "    c = coord.SkyCoord(\n",
    "        l=pos.galactic.l, \n",
    "        b=pos.galactic.b, \n",
    "        pm_l_cosb=pm_gal[0],\n",
    "        pm_b=pm_gal[1],\n",
    "        frame='galactic'\n",
    "    ).icrs\n",
    "    c = coord.SkyCoord(\n",
    "        ra=pos.ra,\n",
    "        dec=pos.dec,\n",
    "        distance=Rsun,\n",
    "        pm_ra_cosdec=c.pm_ra_cosdec,\n",
    "        pm_dec=c.pm_dec,\n",
    "        radial_velocity=rv\n",
    "    )\n",
    "    return -c.transform_to(galcen_frame).velocity.d_xyz"
   ]
  },
  {
   "cell_type": "code",
   "execution_count": 341,
   "id": "cba924ea",
   "metadata": {
    "ExecuteTime": {
     "end_time": "2021-12-13T20:25:45.625109Z",
     "start_time": "2021-12-13T20:25:45.611175Z"
    }
   },
   "outputs": [
    {
     "data": {
      "text/plain": [
       "<Galactocentric Frame (galcen_coord=<ICRS Coordinate: (ra, dec) in deg\n",
       "    (266.4051, -28.936175)>, galcen_distance=8.122 kpc, galcen_v_sun=(12.9, 245.6, 7.78) km / s, z_sun=20.8 pc, roll=0.0 deg)>"
      ]
     },
     "execution_count": 341,
     "metadata": {},
     "output_type": "execute_result"
    }
   ],
   "source": [
    "coord.Galactocentric()"
   ]
  },
  {
   "cell_type": "code",
   "execution_count": 342,
   "id": "2cc6b0ba",
   "metadata": {
    "ExecuteTime": {
     "end_time": "2021-12-13T20:25:45.823823Z",
     "start_time": "2021-12-13T20:25:45.779413Z"
    }
   },
   "outputs": [
    {
     "data": {
      "text/latex": [
       "$[8.4198919,~250.23153,~7.9031617] \\; \\mathrm{\\frac{km}{s}}$"
      ],
      "text/plain": [
       "<Quantity [  8.41989195, 250.23152885,   7.90316172] km / s>"
      ]
     },
     "execution_count": 342,
     "metadata": {},
     "output_type": "execute_result"
    }
   ],
   "source": [
    "# See: https://iopscience.iop.org/article/10.3847/2515-5172/aaef8b\n",
    "# (paragraph above Eq. 2)\n",
    "GRAVITY_z0dot = -2.6 * u.km/u.s\n",
    "# GRAVITY_z0dot = 1.9 * u.km/u.s\n",
    "rv =  - (11 * u.km/u.s + GRAVITY_z0dot)\n",
    "Rsun = 8.275 * u.kpc\n",
    "get_solar_velocity_Reid2004(Rsun, rv)"
   ]
  },
  {
   "cell_type": "code",
   "execution_count": null,
   "id": "f3a48ca6",
   "metadata": {},
   "outputs": [],
   "source": []
  }
 ],
 "metadata": {
  "kernelspec": {
   "display_name": "Python [conda env:root] *",
   "language": "python",
   "name": "conda-root-py"
  },
  "language_info": {
   "codemirror_mode": {
    "name": "ipython",
    "version": 3
   },
   "file_extension": ".py",
   "mimetype": "text/x-python",
   "name": "python",
   "nbconvert_exporter": "python",
   "pygments_lexer": "ipython3",
   "version": "3.8.3"
  },
  "toc": {
   "base_numbering": 1,
   "nav_menu": {},
   "number_sections": true,
   "sideBar": true,
   "skip_h1_title": false,
   "title_cell": "Table of Contents",
   "title_sidebar": "Contents",
   "toc_cell": false,
   "toc_position": {},
   "toc_section_display": true,
   "toc_window_display": false
  }
 },
 "nbformat": 4,
 "nbformat_minor": 5
}
