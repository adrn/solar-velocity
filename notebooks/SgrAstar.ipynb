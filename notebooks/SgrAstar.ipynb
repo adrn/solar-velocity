{
 "cells": [
  {
   "cell_type": "markdown",
   "id": "cd0939a6",
   "metadata": {},
   "source": [
    "- Data tables from [Reid & Brunthaler 2020](https://ui.adsabs.harvard.edu/abs/2020ApJ...892...39R/abstract)\n",
    "- Fiducial coordinates from note in Table 1"
   ]
  },
  {
   "cell_type": "code",
   "execution_count": null,
   "id": "9c4fb52e",
   "metadata": {},
   "outputs": [],
   "source": [
    "import pathlib\n",
    "\n",
    "import astropy.coordinates as coord\n",
    "import astropy.table as at\n",
    "from astropy.time import Time\n",
    "import astropy.units as u\n",
    "import matplotlib as mpl\n",
    "import matplotlib.pyplot as plt\n",
    "%matplotlib inline\n",
    "import numpy as np\n",
    "\n",
    "import arviz as az\n",
    "import pymc3 as pm\n",
    "import pymc3_ext as pmx"
   ]
  },
  {
   "cell_type": "code",
   "execution_count": null,
   "id": "9c941c12",
   "metadata": {},
   "outputs": [],
   "source": [
    "fiducial_c = coord.SkyCoord(\n",
    "    \"17:45:40.0409\", \n",
    "    \"-29:00:28.118\",\n",
    "    unit=(u.hourangle, u.degree)\n",
    ")"
   ]
  },
  {
   "cell_type": "code",
   "execution_count": null,
   "id": "b4fc8798",
   "metadata": {},
   "outputs": [],
   "source": [
    "data_path = pathlib.Path('../data/').resolve()"
   ]
  },
  {
   "cell_type": "code",
   "execution_count": null,
   "id": "489724f4",
   "metadata": {},
   "outputs": [],
   "source": [
    "data = {}\n",
    "for filename in data_path.glob('J*'):\n",
    "    name = filename.parts[-1]\n",
    "    tbl = at.QTable.read(filename, format='ascii.csv')\n",
    "    tbl['Date'] = Time(tbl['Date'], format='jyear')\n",
    "    for colname in tbl.colnames[1:]:\n",
    "        tbl[colname] *= u.mas\n",
    "    tbl['dEast'] = -tbl['dEast']\n",
    "    tbl['dNorth'] = -tbl['dNorth']\n",
    "    data[name] = tbl"
   ]
  },
  {
   "cell_type": "code",
   "execution_count": null,
   "id": "5ebf8ff5",
   "metadata": {},
   "outputs": [],
   "source": [
    "style = dict(ls='none', marker='o', ms=2)\n",
    "\n",
    "fig, axes = plt.subplots(\n",
    "    1, 2, \n",
    "    figsize=(12, 5), \n",
    "    sharex=True, \n",
    "    constrained_layout=True\n",
    ")\n",
    "\n",
    "for name, tbl in data.items():\n",
    "    print(np.min(tbl['dEast_err']), np.min(tbl['dNorth_err']))\n",
    "    axes[0].errorbar(\n",
    "        tbl['Date'].jyear,\n",
    "        tbl['dEast'].value,\n",
    "        tbl['dEast_err'].value,\n",
    "        **style\n",
    "    )\n",
    "    \n",
    "    axes[1].errorbar(\n",
    "        tbl['Date'].jyear,\n",
    "        tbl['dNorth'].value,\n",
    "        tbl['dNorth_err'].value,\n",
    "        **style\n",
    "    )\n",
    "\n",
    "for ax in axes:\n",
    "    ax.set_xlabel('year')\n",
    "axes[0].set_ylabel(r'$\\Delta\\alpha$ [mas]')\n",
    "axes[1].set_ylabel(r'$\\Delta\\delta$ [mas]')"
   ]
  },
  {
   "cell_type": "code",
   "execution_count": null,
   "id": "8b67b879",
   "metadata": {},
   "outputs": [],
   "source": [
    "EPOCH = 2000.\n",
    "import theano.tensor as tt\n",
    "\n",
    "def make_model(t_jyear, dx, dx_err):\n",
    "    with pm.Model() as model:\n",
    "        acc = pm.Uniform('acc', -10, 10)  # acceleration in mas/yr**2\n",
    "        pm_ = pm.Uniform('pm', -10, 10)  # proper motion in mas/yr\n",
    "        x0 = pm.Uniform('x0', -1000, 1000)\n",
    "        logs = pm.Uniform('logs', -12, 2)\n",
    "        s = tt.exp(logs)\n",
    "        err = tt.sqrt(s**2 + dx_err**2)\n",
    "        true_dx = acc * (t_jyear - EPOCH)**2 + pm_ * (t_jyear - EPOCH) + x0\n",
    "        pm.Normal('like', true_dx, err, observed=dx)\n",
    "    \n",
    "    return model"
   ]
  },
  {
   "cell_type": "code",
   "execution_count": null,
   "id": "64946f02",
   "metadata": {},
   "outputs": [],
   "source": [
    "all_samples = {}\n",
    "for name, tbl in data.items():\n",
    "    for dir_ in ['East', 'North']:\n",
    "        with make_model(tbl['Date'].jyear, tbl[f'd{dir_}'].value, tbl[f'd{dir_}_err'].value) as model:\n",
    "            res = pmx.optimize(start={'pm': -3, 'x0': 0})\n",
    "            print(res)\n",
    "            all_samples[name + dir_] = pmx.sample(tune=1000, draws=10000, chains=2,\n",
    "                                                  start=res, return_inferencedata=True)\n",
    "\n",
    "# Joint fit:\n",
    "tbl = at.vstack((data['J1745-283'], data['J1748-291']))\n",
    "for dir_ in ['East', 'North']:\n",
    "    with make_model(tbl['Date'].jyear, tbl[f'd{dir_}'].value, tbl[f'd{dir_}_err'].value) as model:\n",
    "        res = pmx.optimize(start={'pm': -3, 'x0': 0})\n",
    "        print(res)\n",
    "        all_samples['joint' + dir_] = pmx.sample(\n",
    "            tune=1000, draws=10000, chains=2,\n",
    "            start=res, return_inferencedata=True\n",
    "        )"
   ]
  },
  {
   "cell_type": "code",
   "execution_count": null,
   "id": "04c95c6e",
   "metadata": {},
   "outputs": [],
   "source": [
    "pm_east = np.mean(all_samples['jointEast'].posterior.pm.values.ravel())\n",
    "pm_east_err = np.std(all_samples['jointEast'].posterior.pm.values.ravel())\n",
    "\n",
    "pm_north = np.mean(all_samples['jointNorth'].posterior.pm.values.ravel())\n",
    "pm_north_err = np.std(all_samples['jointNorth'].posterior.pm.values.ravel())"
   ]
  },
  {
   "cell_type": "code",
   "execution_count": null,
   "id": "dfe984a6",
   "metadata": {},
   "outputs": [],
   "source": [
    "print(f\"pm_E = {pm_east:.3f} +/- {pm_east_err:.3f}\")\n",
    "print(f\"pm_N = {pm_north:.3f} +/- {pm_north_err:.3f}\")"
   ]
  },
  {
   "cell_type": "code",
   "execution_count": null,
   "id": "17113f83",
   "metadata": {},
   "outputs": [],
   "source": [
    "pos_east_2016 = all_samples['jointEast'].posterior.pm * (2016 - EPOCH) + all_samples['jointEast'].posterior.x0\n",
    "pos_north_2016 = all_samples['jointNorth'].posterior.pm * (2016 - EPOCH) + all_samples['jointNorth'].posterior.x0"
   ]
  },
  {
   "cell_type": "code",
   "execution_count": null,
   "id": "985b14c0",
   "metadata": {},
   "outputs": [],
   "source": [
    "np.mean(pos_east_2016).values, np.mean(pos_north_2016).values"
   ]
  },
  {
   "cell_type": "code",
   "execution_count": null,
   "id": "26f2dfd4",
   "metadata": {},
   "outputs": [],
   "source": [
    "np.std(pos_east_2016).values, np.std(pos_north_2016).values"
   ]
  },
  {
   "cell_type": "code",
   "execution_count": null,
   "id": "eaa8a08b",
   "metadata": {},
   "outputs": [],
   "source": [
    "sgr_ra_2016 = fiducial_c.ra + np.mean(pos_east_2016).values * u.mas\n",
    "sgr_dec_2016 = fiducial_c.dec + np.mean(pos_north_2016).values * u.mas"
   ]
  },
  {
   "cell_type": "code",
   "execution_count": null,
   "id": "9bb05945",
   "metadata": {},
   "outputs": [],
   "source": [
    "Rsun = 8.275 * u.kpc\n",
    "cc = coord.SkyCoord(\n",
    "    sgr_ra_2016, \n",
    "    sgr_dec_2016,\n",
    "    distance=Rsun,\n",
    "    pm_ra_cosdec=pm_east * u.mas/u.yr,\n",
    "    pm_dec=pm_north * u.mas/u.yr,\n",
    "    radial_velocity=0*u.km/u.s\n",
    ")\n",
    "\n",
    "galcen_frame = coord.Galactocentric(\n",
    "    galcen_v_sun=[0, 0, 0]*u.km/u.s,\n",
    "    galcen_distance=Rsun,\n",
    "    z_sun=20.8 * u.pc\n",
    ")"
   ]
  },
  {
   "cell_type": "code",
   "execution_count": null,
   "id": "0ec83b25",
   "metadata": {},
   "outputs": [],
   "source": [
    "-cc.transform_to(galcen_frame).velocity.d_xyz"
   ]
  },
  {
   "cell_type": "markdown",
   "id": "0fc0a320",
   "metadata": {},
   "source": [
    "---"
   ]
  },
  {
   "cell_type": "code",
   "execution_count": null,
   "id": "b0686510",
   "metadata": {},
   "outputs": [],
   "source": [
    "import corner"
   ]
  },
  {
   "cell_type": "code",
   "execution_count": null,
   "id": "2b04c35a",
   "metadata": {},
   "outputs": [],
   "source": [
    "fig = corner.corner(all_samples['jointEast'].posterior)"
   ]
  },
  {
   "cell_type": "code",
   "execution_count": null,
   "id": "d6171e76",
   "metadata": {},
   "outputs": [],
   "source": []
  },
  {
   "cell_type": "code",
   "execution_count": null,
   "id": "a9d7d1bd",
   "metadata": {},
   "outputs": [],
   "source": [
    "lw = 1.\n",
    "\n",
    "ller = az.labels.MapLabeller(\n",
    "    var_name_map={\n",
    "        \"acc\": r\"acceleration $a$ [mas/yr^2]\",\n",
    "        \"pm\": r\"proper motion $\\mu$ [mas/yr]\",\n",
    "        \"x0\": \"J2000 epoch position [mas]\"\n",
    "    }\n",
    ")\n",
    "\n",
    "var_names = ['x0', 'pm', 'acc']\n",
    "limits = [\n",
    "    (10, 15),\n",
    "    (-5, -2),\n",
    "    (-1e-2, 1e-2)\n",
    "]\n",
    "\n",
    "for dir_ in ['East', 'North']:\n",
    "    \n",
    "    axes = None\n",
    "    for name, color in zip(data.keys(), ['tab:blue', 'tab:orange']):\n",
    "        ret_axes = az.plot_pair(\n",
    "            all_samples[name + dir_], \n",
    "            var_names=var_names,\n",
    "            figsize=(8, 8),\n",
    "            kind=\"kde\",\n",
    "            kde_kwargs={\n",
    "                \"hdi_probs\": [0.68], \n",
    "                \"contour_kwargs\": {\"colors\": color, \"alpha\": 0.85, \"fill_last\": False, \"linewidths\": lw},\n",
    "                \"contourf_kwargs\": {\"alpha\": 0},\n",
    "                \"label\": name\n",
    "            },\n",
    "            marginal_kwargs={\n",
    "                \"color\": color,\n",
    "                \"plot_kwargs\": {\"marker\": \"\", \"linewidth\": lw}\n",
    "            },\n",
    "            marginals=True,\n",
    "#             labeller=ller\n",
    "        )\n",
    "    \n",
    "#     for i in range(3):\n",
    "#         for j in range(3):\n",
    "#             axes[i, j].set_xlim(limits[j])\n",
    "\n",
    "#         axes[0,0].yaxis.set_visible(False)\n",
    "#         axes[1,1].xaxis.set_visible(False)\n",
    "    \n",
    "    break"
   ]
  },
  {
   "cell_type": "code",
   "execution_count": null,
   "id": "bd75a31d",
   "metadata": {},
   "outputs": [],
   "source": []
  },
  {
   "cell_type": "code",
   "execution_count": null,
   "id": "a4865304",
   "metadata": {},
   "outputs": [],
   "source": []
  },
  {
   "cell_type": "code",
   "execution_count": null,
   "id": "9242e4c6",
   "metadata": {},
   "outputs": [],
   "source": []
  }
 ],
 "metadata": {
  "kernelspec": {
   "display_name": "Python [conda env:root] *",
   "language": "python",
   "name": "conda-root-py"
  },
  "language_info": {
   "codemirror_mode": {
    "name": "ipython",
    "version": 3
   },
   "file_extension": ".py",
   "mimetype": "text/x-python",
   "name": "python",
   "nbconvert_exporter": "python",
   "pygments_lexer": "ipython3",
   "version": "3.8.3"
  },
  "toc": {
   "base_numbering": 1,
   "nav_menu": {},
   "number_sections": true,
   "sideBar": true,
   "skip_h1_title": false,
   "title_cell": "Table of Contents",
   "title_sidebar": "Contents",
   "toc_cell": false,
   "toc_position": {},
   "toc_section_display": true,
   "toc_window_display": false
  }
 },
 "nbformat": 4,
 "nbformat_minor": 5
}
