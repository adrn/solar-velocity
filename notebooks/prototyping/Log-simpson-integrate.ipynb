{
 "cells": [
  {
   "cell_type": "code",
   "execution_count": 39,
   "id": "d2a061be",
   "metadata": {
    "ExecuteTime": {
     "end_time": "2022-02-14T20:42:35.008168Z",
     "start_time": "2022-02-14T20:42:34.993946Z"
    }
   },
   "outputs": [],
   "source": [
    "import numpy as np\n",
    "from scipy.integrate import simpson, quad\n",
    "\n",
    "from integrate_helpers import log_simpson"
   ]
  },
  {
   "cell_type": "code",
   "execution_count": 40,
   "id": "040667e2",
   "metadata": {
    "ExecuteTime": {
     "end_time": "2022-02-14T20:42:36.466134Z",
     "start_time": "2022-02-14T20:42:36.461729Z"
    }
   },
   "outputs": [],
   "source": [
    "# def log_integrand(x, sigma=250):\n",
    "#     return -np.log(np.cosh(x / sigma))\n",
    "\n",
    "\n",
    "def log_integrand(z, h1=250., h2=800., f=0.3):\n",
    "    lnterm1 = np.log(f) - 2 * np.log(np.cosh(z / (2 * h1))) - np.log(4 * h1)\n",
    "    lnterm2 = np.log(1 - f) - 2 * np.log(np.cosh(z / (2 * h2))) - np.log(4 * h2)\n",
    "    return np.logaddexp(lnterm1, lnterm2)\n",
    "\n",
    "\n",
    "def integrand(x, *args):\n",
    "    return np.exp(log_integrand(x, *args))"
   ]
  },
  {
   "cell_type": "code",
   "execution_count": 41,
   "id": "66124163",
   "metadata": {
    "ExecuteTime": {
     "end_time": "2022-02-14T20:42:36.898295Z",
     "start_time": "2022-02-14T20:42:36.891789Z"
    }
   },
   "outputs": [
    {
     "data": {
      "text/plain": [
       "(0.9973025702346489, 4.34847334315134e-11)"
      ]
     },
     "execution_count": 41,
     "metadata": {},
     "output_type": "execute_result"
    }
   ],
   "source": [
    "quad(integrand, -5000, 5000)"
   ]
  },
  {
   "cell_type": "code",
   "execution_count": 42,
   "id": "05cbe2ee",
   "metadata": {
    "ExecuteTime": {
     "end_time": "2022-02-14T20:42:37.386942Z",
     "start_time": "2022-02-14T20:42:37.382930Z"
    }
   },
   "outputs": [
    {
     "data": {
      "text/plain": [
       "0.9973026798013409"
      ]
     },
     "execution_count": 42,
     "metadata": {},
     "output_type": "execute_result"
    }
   ],
   "source": [
    "x = np.linspace(-5000, 5000, 128)\n",
    "y = integrand(x)\n",
    "simpson(y, x=x)"
   ]
  },
  {
   "cell_type": "code",
   "execution_count": 43,
   "id": "b19d3571",
   "metadata": {
    "ExecuteTime": {
     "end_time": "2022-02-14T20:42:37.900568Z",
     "start_time": "2022-02-14T20:42:37.896401Z"
    }
   },
   "outputs": [
    {
     "data": {
      "text/plain": [
       "0.9973026798013409"
      ]
     },
     "execution_count": 43,
     "metadata": {},
     "output_type": "execute_result"
    }
   ],
   "source": [
    "log_y = log_integrand(x)\n",
    "np.exp(log_simpson(log_y, x=x))"
   ]
  },
  {
   "cell_type": "code",
   "execution_count": null,
   "id": "e93be398",
   "metadata": {},
   "outputs": [],
   "source": []
  }
 ],
 "metadata": {
  "kernelspec": {
   "display_name": "apw-py3",
   "language": "python",
   "name": "apw-py3"
  },
  "language_info": {
   "codemirror_mode": {
    "name": "ipython",
    "version": 3
   },
   "file_extension": ".py",
   "mimetype": "text/x-python",
   "name": "python",
   "nbconvert_exporter": "python",
   "pygments_lexer": "ipython3",
   "version": "3.9.7"
  },
  "toc": {
   "base_numbering": 1,
   "nav_menu": {},
   "number_sections": true,
   "sideBar": true,
   "skip_h1_title": false,
   "title_cell": "Table of Contents",
   "title_sidebar": "Contents",
   "toc_cell": false,
   "toc_position": {},
   "toc_section_display": true,
   "toc_window_display": false
  }
 },
 "nbformat": 4,
 "nbformat_minor": 5
}
