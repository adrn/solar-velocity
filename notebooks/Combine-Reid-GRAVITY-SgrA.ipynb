{
 "cells": [
  {
   "cell_type": "code",
   "execution_count": 1,
   "id": "95642457",
   "metadata": {
    "ExecuteTime": {
     "end_time": "2022-02-19T14:00:28.233294Z",
     "start_time": "2022-02-19T14:00:27.524020Z"
    }
   },
   "outputs": [],
   "source": [
    "import astropy.coordinates as coord\n",
    "import astropy.table as at\n",
    "import astropy.units as u\n",
    "import matplotlib as mpl\n",
    "import matplotlib.pyplot as plt\n",
    "%matplotlib inline\n",
    "import numpy as np"
   ]
  },
  {
   "cell_type": "markdown",
   "id": "0634b859",
   "metadata": {},
   "source": [
    "See: Tables 2 and 3 \n",
    "https://www.aanda.org/articles/aa/pdf/2021/03/aa40208-20.pdf"
   ]
  },
  {
   "cell_type": "code",
   "execution_count": 8,
   "id": "a0bc4fa3",
   "metadata": {
    "ExecuteTime": {
     "end_time": "2022-02-19T14:10:15.923205Z",
     "start_time": "2022-02-19T14:10:15.913229Z"
    }
   },
   "outputs": [],
   "source": [
    "gravity = {\n",
    "    'distance': 8.275 * u.kpc,\n",
    "    'distance_err': np.sqrt(9**2 + 33**2) * u.pc,\n",
    "    'radial_velocity': (-2.6 + 11.1) * u.km/u.s,\n",
    "    'radial_velocity_err': 1.4 * u.km/u.s\n",
    "}\n",
    "gravity_tbl = at.QTable([gravity])"
   ]
  },
  {
   "cell_type": "code",
   "execution_count": 13,
   "id": "bc4d94d4",
   "metadata": {
    "ExecuteTime": {
     "end_time": "2022-02-19T14:10:39.231190Z",
     "start_time": "2022-02-19T14:10:39.197517Z"
    }
   },
   "outputs": [],
   "source": [
    "reid_tbl = at.QTable.read('../cache/Reid2020_refit.ecsv')"
   ]
  },
  {
   "cell_type": "code",
   "execution_count": 15,
   "id": "7f72f506",
   "metadata": {
    "ExecuteTime": {
     "end_time": "2022-02-19T14:11:02.532744Z",
     "start_time": "2022-02-19T14:11:02.499928Z"
    }
   },
   "outputs": [],
   "source": [
    "sgrA = at.hstack((reid_tbl, gravity_tbl))\n",
    "sgrA.write('../cache/sgrA_star.ecsv', overwrite=True)"
   ]
  },
  {
   "cell_type": "code",
   "execution_count": null,
   "id": "431e7188",
   "metadata": {},
   "outputs": [],
   "source": []
  }
 ],
 "metadata": {
  "kernelspec": {
   "display_name": "Python [conda env:root] *",
   "language": "python",
   "name": "conda-root-py"
  },
  "language_info": {
   "codemirror_mode": {
    "name": "ipython",
    "version": 3
   },
   "file_extension": ".py",
   "mimetype": "text/x-python",
   "name": "python",
   "nbconvert_exporter": "python",
   "pygments_lexer": "ipython3",
   "version": "3.8.3"
  },
  "toc": {
   "base_numbering": 1,
   "nav_menu": {},
   "number_sections": true,
   "sideBar": true,
   "skip_h1_title": false,
   "title_cell": "Table of Contents",
   "title_sidebar": "Contents",
   "toc_cell": false,
   "toc_position": {},
   "toc_section_display": true,
   "toc_window_display": false
  }
 },
 "nbformat": 4,
 "nbformat_minor": 5
}
